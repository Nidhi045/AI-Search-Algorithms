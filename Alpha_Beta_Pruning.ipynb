{
 "cells": [
  {
   "cell_type": "code",
   "execution_count": 1,
   "metadata": {},
   "outputs": [],
   "source": [
    "import math"
   ]
  },
  {
   "cell_type": "code",
   "execution_count": 4,
   "metadata": {},
   "outputs": [
    {
     "name": "stdout",
     "output_type": "stream",
     "text": [
      "Starting Alpha-Beta Pruning algorithm with nodes: [15, 22, 11, 8, 7, 16, 2, 5]\n",
      "Maximizer at level 0, a: -inf, b: inf\n",
      "Minimizer at level 1, a: -inf, b: inf\n",
      "Maximizer at level 2, a: -inf, b: inf\n",
      "Leaf node reached at level 3, returning value: 15\n",
      "Maximizer at level 2, comparing value: 15 with bestVal: -inf\n",
      "Leaf node reached at level 3, returning value: 22\n",
      "Maximizer at level 2, comparing value: 22 with bestVal: 15\n",
      "Maximizer at level 2, selected bestVal: 22\n",
      "Minimizer at level 1, comparing value: 22 with bestVal: inf\n",
      "Maximizer at level 2, a: -inf, b: 22\n",
      "Leaf node reached at level 3, returning value: 11\n",
      "Maximizer at level 2, comparing value: 11 with bestVal: -inf\n",
      "Leaf node reached at level 3, returning value: 8\n",
      "Maximizer at level 2, comparing value: 8 with bestVal: 11\n",
      "Maximizer at level 2, selected bestVal: 11\n",
      "Minimizer at level 1, comparing value: 11 with bestVal: 22\n",
      "Minimizer at level 1, selected bestVal: 11\n",
      "Maximizer at level 0, comparing value: 11 with bestVal: -inf\n",
      "Minimizer at level 1, a: 11, b: inf\n",
      "Maximizer at level 2, a: 11, b: inf\n",
      "Leaf node reached at level 3, returning value: 7\n",
      "Maximizer at level 2, comparing value: 7 with bestVal: -inf\n",
      "Leaf node reached at level 3, returning value: 16\n",
      "Maximizer at level 2, comparing value: 16 with bestVal: 7\n",
      "Maximizer at level 2, selected bestVal: 16\n",
      "Minimizer at level 1, comparing value: 16 with bestVal: inf\n",
      "Maximizer at level 2, a: 11, b: 16\n",
      "Leaf node reached at level 3, returning value: 2\n",
      "Maximizer at level 2, comparing value: 2 with bestVal: -inf\n",
      "Leaf node reached at level 3, returning value: 5\n",
      "Maximizer at level 2, comparing value: 5 with bestVal: 2\n",
      "Maximizer at level 2, selected bestVal: 5\n",
      "Minimizer at level 1, comparing value: 5 with bestVal: 16\n",
      "Pruning at level 1: a (11) >= b (5)\n",
      "Minimizer at level 1, selected bestVal: 5\n",
      "Maximizer at level 0, comparing value: 5 with bestVal: 11\n",
      "Maximizer at level 0, selected bestVal: 11\n",
      "\n",
      "The optimal value is: 11\n"
     ]
    }
   ],
   "source": [
    "def ab_pruning(level, idx, isMaximizer, nodes, a, b, maxLevel):\n",
    "    if level == maxLevel:\n",
    "        print(f\"Leaf node reached at level {level}, returning value: {nodes[idx]}\")\n",
    "        return nodes[idx]\n",
    "\n",
    "    if isMaximizer:\n",
    "        bestVal = -math.inf\n",
    "        print(f\"Maximizer at level {level}, a: {a}, b: {b}\")\n",
    "        for j in range(2):\n",
    "            val = ab_pruning(level + 1, idx * 2 + j, False, nodes, a, b, maxLevel)\n",
    "            print(f\"Maximizer at level {level}, comparing value: {val} with bestVal: {bestVal}\")\n",
    "            bestVal = max(bestVal, val)\n",
    "            a = max(a, bestVal)\n",
    "        \n",
    "            if b <= a:\n",
    "                print(f\"Pruning at level {level}: a ({a}) >= b ({b})\")\n",
    "                break\n",
    "                \n",
    "        print(f\"Maximizer at level {level}, selected bestVal: {bestVal}\")\n",
    "        return bestVal\n",
    "    \n",
    "    else:\n",
    "        bestVal = math.inf\n",
    "        print(f\"Minimizer at level {level}, a: {a}, b: {b}\")\n",
    "        \n",
    "        for j in range(2):\n",
    "            val = ab_pruning(level + 1, idx * 2 + j, True, nodes, a, b, maxLevel)\n",
    "            print(f\"Minimizer at level {level}, comparing value: {val} with bestVal: {bestVal}\")\n",
    "            bestVal = min(bestVal, val)\n",
    "            b = min(b, bestVal)\n",
    "        \n",
    "            if b <= a:\n",
    "                print(f\"Pruning at level {level}: a ({a}) >= b ({b})\")\n",
    "                break\n",
    "                \n",
    "        print(f\"Minimizer at level {level}, selected bestVal: {bestVal}\")\n",
    "        return bestVal\n",
    "\n",
    "maxLevel = 3\n",
    "nodes = [15, 22, 11, 8, 7, 16, 2, 5] \n",
    "a = -math.inf\n",
    "b = math.inf\n",
    "\n",
    "print(\"Starting Alpha-Beta Pruning algorithm with nodes:\", nodes)\n",
    "bestOutcome = ab_pruning(0, 0, True, nodes, a, b, maxLevel)\n",
    "print(\"\\nThe optimal value is:\", bestOutcome)\n"
   ]
  }
 ],
 "metadata": {
  "kernelspec": {
   "display_name": "Python 3",
   "language": "python",
   "name": "python3"
  },
  "language_info": {
   "codemirror_mode": {
    "name": "ipython",
    "version": 3
   },
   "file_extension": ".py",
   "mimetype": "text/x-python",
   "name": "python",
   "nbconvert_exporter": "python",
   "pygments_lexer": "ipython3",
   "version": "3.9.13"
  }
 },
 "nbformat": 4,
 "nbformat_minor": 2
}
