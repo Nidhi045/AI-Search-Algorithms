{
 "cells": [
  {
   "cell_type": "code",
   "execution_count": 2,
   "metadata": {},
   "outputs": [],
   "source": [
    "import math\n",
    "def mm_search(level, idx, isMaximizer, nodes, maxLevel):\n",
    "    if level == maxLevel:\n",
    "        print(f\"Leaf node reached at level {level}, returning value: {nodes[idx]}\")\n",
    "        return nodes[idx]\n",
    "\n",
    "    if isMaximizer:\n",
    "        bestVal = -math.inf\n",
    "        print(f\"Maximizer at level {level}\")\n",
    "        for j in range(2):\n",
    "            val = mm_search(level + 1, idx * 2 + j, False, nodes, maxLevel)\n",
    "            print(f\"Maximizer at level {level}, comparing value: {val} with bestVal: {bestVal}\")\n",
    "            bestVal = max(bestVal, val)\n",
    "        print(f\"Maximizer at level {level}, selected bestVal: {bestVal}\")\n",
    "        return bestVal\n",
    "    else:\n",
    "        bestVal = math.inf\n",
    "        print(f\"Minimizer at level {level}\")\n",
    "        for j in range(2):\n",
    "            val = mm_search(level + 1, idx * 2 + j, True, nodes, maxLevel)\n",
    "            print(f\"Minimizer at level {level}, comparing value: {val} with bestVal: {bestVal}\")\n",
    "            bestVal = min(bestVal, val)\n",
    "        print(f\"Minimizer at level {level}, selected bestVal: {bestVal}\")\n",
    "        return bestVal\n"
   ]
  },
  {
   "cell_type": "code",
   "execution_count": 3,
   "metadata": {},
   "outputs": [
    {
     "name": "stdout",
     "output_type": "stream",
     "text": [
      "Maximizer at level 0\n",
      "Minimizer at level 1\n",
      "Maximizer at level 2\n",
      "Leaf node reached at level 3, returning value: 15\n",
      "Maximizer at level 2, comparing value: 15 with bestVal: -inf\n",
      "Leaf node reached at level 3, returning value: 22\n",
      "Maximizer at level 2, comparing value: 22 with bestVal: 15\n",
      "Maximizer at level 2, selected bestVal: 22\n",
      "Minimizer at level 1, comparing value: 22 with bestVal: inf\n",
      "Maximizer at level 2\n",
      "Leaf node reached at level 3, returning value: 11\n",
      "Maximizer at level 2, comparing value: 11 with bestVal: -inf\n",
      "Leaf node reached at level 3, returning value: 8\n",
      "Maximizer at level 2, comparing value: 8 with bestVal: 11\n",
      "Maximizer at level 2, selected bestVal: 11\n",
      "Minimizer at level 1, comparing value: 11 with bestVal: 22\n",
      "Minimizer at level 1, selected bestVal: 11\n",
      "Maximizer at level 0, comparing value: 11 with bestVal: -inf\n",
      "Minimizer at level 1\n",
      "Maximizer at level 2\n",
      "Leaf node reached at level 3, returning value: 7\n",
      "Maximizer at level 2, comparing value: 7 with bestVal: -inf\n",
      "Leaf node reached at level 3, returning value: 16\n",
      "Maximizer at level 2, comparing value: 16 with bestVal: 7\n",
      "Maximizer at level 2, selected bestVal: 16\n",
      "Minimizer at level 1, comparing value: 16 with bestVal: inf\n",
      "Maximizer at level 2\n",
      "Leaf node reached at level 3, returning value: 2\n",
      "Maximizer at level 2, comparing value: 2 with bestVal: -inf\n",
      "Leaf node reached at level 3, returning value: 5\n",
      "Maximizer at level 2, comparing value: 5 with bestVal: 2\n",
      "Maximizer at level 2, selected bestVal: 5\n",
      "Minimizer at level 1, comparing value: 5 with bestVal: 16\n",
      "Minimizer at level 1, selected bestVal: 5\n",
      "Maximizer at level 0, comparing value: 5 with bestVal: 11\n",
      "Maximizer at level 0, selected bestVal: 11\n",
      "\n",
      "The optimal value is: 11\n"
     ]
    }
   ],
   "source": [
    "maxLevel = 3\n",
    "nodes = [15, 22, 11, 8, 7, 16, 2, 5]\n",
    "bestOutcome = mm_search(0, 0, True, nodes, maxLevel)\n",
    "\n",
    "print(\"\\nThe optimal value is:\", bestOutcome)"
   ]
  }
 ],
 "metadata": {
  "kernelspec": {
   "display_name": "Python 3",
   "language": "python",
   "name": "python3"
  },
  "language_info": {
   "codemirror_mode": {
    "name": "ipython",
    "version": 3
   },
   "file_extension": ".py",
   "mimetype": "text/x-python",
   "name": "python",
   "nbconvert_exporter": "python",
   "pygments_lexer": "ipython3",
   "version": "3.9.13"
  }
 },
 "nbformat": 4,
 "nbformat_minor": 2
}
